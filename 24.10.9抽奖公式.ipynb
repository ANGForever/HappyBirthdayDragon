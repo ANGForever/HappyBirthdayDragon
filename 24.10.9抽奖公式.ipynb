{
 "cells": [
  {
   "cell_type": "markdown",
   "metadata": {},
   "source": [
    "# 2024.10.9 pyq抽奖后续\n",
    "### 截止至 2024.10.12 12：00 共有15人认定参与\n",
    "\n",
    "账号如下：\n",
    "\n",
    "- cuihuaxiaoduo\n",
    "- ZZZZZZZ1268\n",
    "- Am-Em_G-F-G\n",
    "- djy13688249184\n",
    "- rd15902973833\n",
    "- wxid_7v9bbdyedufd22\n",
    "- leohao6205\n",
    "- m3322126030\n",
    "- Hbduwiuduguf\n",
    "- lzh20060230-0104\n",
    "- Island19690211\n",
    "- ManToSYC\n",
    "- hxt20060531\n",
    "- lhnl1809819381\n",
    "- hao18192075072\n",
    "\n",
    "<details> <summary>点击查看最终参与名单</summary>\n",
    "\n",
    "![](./24.10.9抽奖.png)\n",
    "\n",
    "</details> "
   ]
  },
  {
   "cell_type": "markdown",
   "metadata": {},
   "source": [
    "[](./24.10.9抽奖.png)"
   ]
  },
  {
   "cell_type": "code",
   "execution_count": 65,
   "metadata": {},
   "outputs": [
    {
     "name": "stdout",
     "output_type": "stream",
     "text": [
      "获奖者名单： ['cuihuaxiaoduo', 'rd15902973833', 'ManToSYC', 'lzh20060230-0104', 'hxt20060531']\n"
     ]
    }
   ],
   "source": [
    "import random\n",
    "\n",
    "# 参与者名单\n",
    "participants = [\n",
    "    \"cuihuaxiaoduo\",\n",
    "    \"ZZZZZZZ1268\",\n",
    "    \"Am-Em_G-F-G\",\n",
    "    \"djy13688249184\",\n",
    "    \"rd15902973833\",\n",
    "    \"wxid_7v9bbdyedufd22\",\n",
    "    \"leohao6205\",\n",
    "    \"m3322126030\",\n",
    "    \"Hbduwiuduguf\",\n",
    "    \"lzh20060230-0104\",\n",
    "    \"Island19690211\",\n",
    "    \"ManToSYC\",\n",
    "    \"hxt20060531\",\n",
    "    \"lhnl1809819381\",\n",
    "    \"hao18192075072\"\n",
    "]\n",
    "\n",
    "# 确保参与者数量不少于5人\n",
    "if len(participants) < 5:\n",
    "    print(\"参与者数量不足5人，无法进行抽奖。\")\n",
    "else:\n",
    "    # 随机选择5个获奖者，random.sample()函数确保不会重复选择同一个参与者\n",
    "    winners = random.sample(participants, 5)\n",
    "\n",
    "    # 打印获奖者名单\n",
    "    print(\"获奖者名单：\", winners)"
   ]
  }
 ],
 "metadata": {
  "kernelspec": {
   "display_name": "pytorch",
   "language": "python",
   "name": "python3"
  },
  "language_info": {
   "codemirror_mode": {
    "name": "ipython",
    "version": 3
   },
   "file_extension": ".py",
   "mimetype": "text/x-python",
   "name": "python",
   "nbconvert_exporter": "python",
   "pygments_lexer": "ipython3",
   "version": "3.11.10"
  }
 },
 "nbformat": 4,
 "nbformat_minor": 2
}
